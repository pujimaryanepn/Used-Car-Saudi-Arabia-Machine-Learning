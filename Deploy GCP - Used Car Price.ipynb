{
 "cells": [
  {
   "cell_type": "code",
   "execution_count": 1,
   "id": "2cee3b19",
   "metadata": {},
   "outputs": [],
   "source": [
    "## import library \n",
    "import os\n",
    "import pandas as pd\n",
    "import db_dtypes\n",
    "import pickle\n",
    "\n",
    "#import google cloud library\n",
    "from google.cloud import bigquery\n",
    "from google.cloud import storage"
   ]
  },
  {
   "cell_type": "code",
   "execution_count": 2,
   "id": "53154c64",
   "metadata": {},
   "outputs": [],
   "source": [
    "os.environ['GOOGLE_APPLICATION_CREDENTIALS'] = \"trial_bigq.json\""
   ]
  },
  {
   "cell_type": "code",
   "execution_count": 3,
   "id": "639bf0ea",
   "metadata": {},
   "outputs": [],
   "source": [
    "project_id = 'dtidsUS'\n",
    "dataset_id = 'capstone'\n",
    "table_id = 'data_saudi_used_cars'\n",
    "region = 'us-central1'\n",
    "bucket_name = 'modul4'\n",
    "blob_name = 'puji/data_saudi_used_cars.csv'"
   ]
  },
  {
   "cell_type": "code",
   "execution_count": 4,
   "id": "f2f9be4c",
   "metadata": {},
   "outputs": [],
   "source": [
    "client = bigquery.Client(project='dtidsus')"
   ]
  },
  {
   "cell_type": "markdown",
   "id": "603fa6e1",
   "metadata": {},
   "source": [
    "# Upload Dataset"
   ]
  },
  {
   "cell_type": "code",
   "execution_count": 5,
   "id": "64d67363",
   "metadata": {},
   "outputs": [
    {
     "name": "stdout",
     "output_type": "stream",
     "text": [
      "Uploading model succeeded\n"
     ]
    }
   ],
   "source": [
    "try : \n",
    "    storage_client = storage.Client(project=project_id)\n",
    "    bucket = storage_client.get_bucket('modul4')\n",
    "    data_capstone = bucket.blob('puji/data_saudi_used_cars.csv')\n",
    "    data_capstone.upload_from_filename('data_saudi_used_cars.csv')\n",
    "\n",
    "    print (\"Uploading model succeeded\")\n",
    "except:\n",
    "    raise TypeError(\"An exception occurred\")"
   ]
  },
  {
   "cell_type": "code",
   "execution_count": 6,
   "id": "b09fda21",
   "metadata": {},
   "outputs": [],
   "source": [
    "query_job = client.query(f\"\"\"select * from {dataset_id}.{table_id}\"\"\")"
   ]
  },
  {
   "cell_type": "code",
   "execution_count": 7,
   "id": "13b770bf",
   "metadata": {},
   "outputs": [
    {
     "name": "stderr",
     "output_type": "stream",
     "text": [
      "C:\\Users\\nde\\anaconda3\\Lib\\site-packages\\google\\cloud\\bigquery\\table.py:1727: UserWarning: BigQuery Storage module not found, fetch data with the REST endpoint instead.\n",
      "  warnings.warn(\n"
     ]
    }
   ],
   "source": [
    "df = query_job.result().to_dataframe()"
   ]
  },
  {
   "cell_type": "markdown",
   "id": "157905ac",
   "metadata": {},
   "source": [
    "# Upload the Model "
   ]
  },
  {
   "cell_type": "code",
   "execution_count": 8,
   "id": "13674a4b",
   "metadata": {},
   "outputs": [
    {
     "name": "stdout",
     "output_type": "stream",
     "text": [
      "Uploading model succeeded\n"
     ]
    }
   ],
   "source": [
    "try : \n",
    "    storage_client = storage.Client(project=project_id)\n",
    "    bucket = storage_client.get_bucket('modul4')\n",
    "    blob_model = bucket.blob('puji/model/model.pkl') #blob_model = bucket.blob('ilham/model/model.pkl')\n",
    "    blob_model.upload_from_filename('model.pkl') #blob_model.upload_from_filename('model.pkl')\n",
    "\n",
    "    print (\"Uploading model succeeded\")\n",
    "except:\n",
    "    raise TypeError(\"An exception occurred\")"
   ]
  },
  {
   "cell_type": "code",
   "execution_count": 9,
   "id": "b40fc8f7",
   "metadata": {},
   "outputs": [],
   "source": [
    "from google.cloud import aiplatform"
   ]
  },
  {
   "cell_type": "code",
   "execution_count": 10,
   "id": "240bf027",
   "metadata": {},
   "outputs": [],
   "source": [
    "os.environ['GOOGLE_APPLICATION_CREDENTIALS'] = \"dev_trial.json\""
   ]
  },
  {
   "cell_type": "code",
   "execution_count": 11,
   "id": "b7102598",
   "metadata": {
    "scrolled": true
   },
   "outputs": [
    {
     "name": "stdout",
     "output_type": "stream",
     "text": [
      "Creating Model\n",
      "Create Model backing LRO: projects/41965541199/locations/us-central1/models/7455521166623506432/operations/5169168547200368640\n",
      "Model created. Resource name: projects/41965541199/locations/us-central1/models/7455521166623506432@1\n",
      "To use this Model in another session:\n",
      "model = aiplatform.Model('projects/41965541199/locations/us-central1/models/7455521166623506432@1')\n"
     ]
    }
   ],
   "source": [
    "aiplatform.init(project='dtidsus', location='us-central1')\n",
    "\n",
    "model = aiplatform.Model.upload(\n",
    "    display_name='puji_model_001', #'jaya_model_000'\n",
    "    artifact_uri=\"gs://modul4/puji/model/\", #\"gs://modul4/ilham/model/\"\n",
    "    serving_container_image_uri=\"us-docker.pkg.dev/vertex-ai/prediction/sklearn-cpu.1-2:latest\",\n",
    ")\n",
    "\n",
    "model.wait()"
   ]
  },
  {
   "cell_type": "markdown",
   "id": "3a67782c",
   "metadata": {},
   "source": [
    "# Create Endpoint (?)"
   ]
  },
  {
   "cell_type": "code",
   "execution_count": 12,
   "id": "cb919eee",
   "metadata": {},
   "outputs": [
    {
     "name": "stdout",
     "output_type": "stream",
     "text": [
      "Creating Endpoint\n",
      "Create Endpoint backing LRO: projects/41965541199/locations/us-central1/endpoints/897387305730310144/operations/6326030701481164800\n",
      "Endpoint created. Resource name: projects/41965541199/locations/us-central1/endpoints/897387305730310144\n",
      "To use this Endpoint in another session:\n",
      "endpoint = aiplatform.Endpoint('projects/41965541199/locations/us-central1/endpoints/897387305730310144')\n"
     ]
    }
   ],
   "source": [
    "endpoint = aiplatform.Endpoint.create(\n",
    "    display_name=\"puji-endpoint-001\", #\"jaya-endpoint-000\"\n",
    "    project='dtidsus',\n",
    "    location='us-central1',\n",
    ")"
   ]
  },
  {
   "cell_type": "code",
   "execution_count": 13,
   "id": "1f8283ee",
   "metadata": {},
   "outputs": [],
   "source": [
    "min_replica_count: int = 1\n",
    "max_replica_count: int = 1"
   ]
  },
  {
   "cell_type": "code",
   "execution_count": 14,
   "id": "43954e26",
   "metadata": {},
   "outputs": [
    {
     "name": "stdout",
     "output_type": "stream",
     "text": [
      "Deploying Model projects/41965541199/locations/us-central1/models/7455521166623506432 to Endpoint : projects/41965541199/locations/us-central1/endpoints/897387305730310144\n",
      "Deploy Endpoint model backing LRO: projects/41965541199/locations/us-central1/endpoints/897387305730310144/operations/5166353797433262080\n"
     ]
    },
    {
     "ename": "FailedPrecondition",
     "evalue": "400 Model server exited unexpectedly. Model server logs can be found at https://console.cloud.google.com/logs/viewer?project=41965541199&resource=aiplatform.googleapis.com%2FDeploymentResourcePool&advancedFilter=resource.type%3D%22aiplatform.googleapis.com%2FDeploymentResourcePool%22%0Aresource.labels.deployment_resource_pool_id%3D%22internal_6333569606036226048%22%0Aresource.labels.location%3D%22us-central1%22. 9: Model server exited unexpectedly. Model server logs can be found at https://console.cloud.google.com/logs/viewer?project=41965541199&resource=aiplatform.googleapis.com%2FDeploymentResourcePool&advancedFilter=resource.type%3D%22aiplatform.googleapis.com%2FDeploymentResourcePool%22%0Aresource.labels.deployment_resource_pool_id%3D%22internal_6333569606036226048%22%0Aresource.labels.location%3D%22us-central1%22.",
     "output_type": "error",
     "traceback": [
      "\u001b[1;31m---------------------------------------------------------------------------\u001b[0m",
      "\u001b[1;31mFailedPrecondition\u001b[0m                        Traceback (most recent call last)",
      "Cell \u001b[1;32mIn[14], line 2\u001b[0m\n\u001b[0;32m      1\u001b[0m \u001b[38;5;66;03m# Deploy model to the endpoint\u001b[39;00m\n\u001b[1;32m----> 2\u001b[0m endpoint\u001b[38;5;241m.\u001b[39mdeploy( \n\u001b[0;32m      3\u001b[0m     model\u001b[38;5;241m=\u001b[39mmodel,\n\u001b[0;32m      4\u001b[0m     deployed_model_display_name\u001b[38;5;241m=\u001b[39m\u001b[38;5;124m'\u001b[39m\u001b[38;5;124mpuji_model_001\u001b[39m\u001b[38;5;124m'\u001b[39m, \u001b[38;5;66;03m#'jaya_model_000'\u001b[39;00m\n\u001b[0;32m      5\u001b[0m     machine_type\u001b[38;5;241m=\u001b[39m\u001b[38;5;124m'\u001b[39m\u001b[38;5;124me2-standard-2\u001b[39m\u001b[38;5;124m'\u001b[39m,\n\u001b[0;32m      6\u001b[0m     min_replica_count\u001b[38;5;241m=\u001b[39mmin_replica_count,\n\u001b[0;32m      7\u001b[0m     max_replica_count\u001b[38;5;241m=\u001b[39mmax_replica_count,\n\u001b[0;32m      8\u001b[0m     sync\u001b[38;5;241m=\u001b[39m\u001b[38;5;28;01mTrue\u001b[39;00m, \n\u001b[0;32m      9\u001b[0m )\n",
      "File \u001b[1;32m~\\anaconda3\\Lib\\site-packages\\google\\cloud\\aiplatform\\models.py:1449\u001b[0m, in \u001b[0;36mEndpoint.deploy\u001b[1;34m(self, model, deployed_model_display_name, traffic_percentage, traffic_split, machine_type, min_replica_count, max_replica_count, accelerator_type, accelerator_count, tpu_topology, service_account, explanation_metadata, explanation_parameters, metadata, sync, deploy_request_timeout, autoscaling_target_cpu_utilization, autoscaling_target_accelerator_duty_cycle, enable_access_logging, disable_container_logging, deployment_resource_pool, reservation_affinity_type, reservation_affinity_key, reservation_affinity_values, spot, fast_tryout_enabled, system_labels)\u001b[0m\n\u001b[0;32m   1434\u001b[0m \u001b[38;5;28mself\u001b[39m\u001b[38;5;241m.\u001b[39m_validate_deploy_args(\n\u001b[0;32m   1435\u001b[0m     min_replica_count\u001b[38;5;241m=\u001b[39mmin_replica_count,\n\u001b[0;32m   1436\u001b[0m     max_replica_count\u001b[38;5;241m=\u001b[39mmax_replica_count,\n\u001b[1;32m   (...)\u001b[0m\n\u001b[0;32m   1441\u001b[0m     deployment_resource_pool\u001b[38;5;241m=\u001b[39mdeployment_resource_pool,\n\u001b[0;32m   1442\u001b[0m )\n\u001b[0;32m   1444\u001b[0m explanation_spec \u001b[38;5;241m=\u001b[39m _explanation_utils\u001b[38;5;241m.\u001b[39mcreate_and_validate_explanation_spec(\n\u001b[0;32m   1445\u001b[0m     explanation_metadata\u001b[38;5;241m=\u001b[39mexplanation_metadata,\n\u001b[0;32m   1446\u001b[0m     explanation_parameters\u001b[38;5;241m=\u001b[39mexplanation_parameters,\n\u001b[0;32m   1447\u001b[0m )\n\u001b[1;32m-> 1449\u001b[0m \u001b[38;5;28mself\u001b[39m\u001b[38;5;241m.\u001b[39m_deploy(\n\u001b[0;32m   1450\u001b[0m     model\u001b[38;5;241m=\u001b[39mmodel,\n\u001b[0;32m   1451\u001b[0m     deployed_model_display_name\u001b[38;5;241m=\u001b[39mdeployed_model_display_name,\n\u001b[0;32m   1452\u001b[0m     traffic_percentage\u001b[38;5;241m=\u001b[39mtraffic_percentage,\n\u001b[0;32m   1453\u001b[0m     traffic_split\u001b[38;5;241m=\u001b[39mtraffic_split,\n\u001b[0;32m   1454\u001b[0m     machine_type\u001b[38;5;241m=\u001b[39mmachine_type,\n\u001b[0;32m   1455\u001b[0m     min_replica_count\u001b[38;5;241m=\u001b[39mmin_replica_count,\n\u001b[0;32m   1456\u001b[0m     max_replica_count\u001b[38;5;241m=\u001b[39mmax_replica_count,\n\u001b[0;32m   1457\u001b[0m     accelerator_type\u001b[38;5;241m=\u001b[39maccelerator_type,\n\u001b[0;32m   1458\u001b[0m     accelerator_count\u001b[38;5;241m=\u001b[39maccelerator_count,\n\u001b[0;32m   1459\u001b[0m     tpu_topology\u001b[38;5;241m=\u001b[39mtpu_topology,\n\u001b[0;32m   1460\u001b[0m     reservation_affinity_type\u001b[38;5;241m=\u001b[39mreservation_affinity_type,\n\u001b[0;32m   1461\u001b[0m     reservation_affinity_key\u001b[38;5;241m=\u001b[39mreservation_affinity_key,\n\u001b[0;32m   1462\u001b[0m     reservation_affinity_values\u001b[38;5;241m=\u001b[39mreservation_affinity_values,\n\u001b[0;32m   1463\u001b[0m     service_account\u001b[38;5;241m=\u001b[39mservice_account,\n\u001b[0;32m   1464\u001b[0m     explanation_spec\u001b[38;5;241m=\u001b[39mexplanation_spec,\n\u001b[0;32m   1465\u001b[0m     metadata\u001b[38;5;241m=\u001b[39mmetadata,\n\u001b[0;32m   1466\u001b[0m     sync\u001b[38;5;241m=\u001b[39msync,\n\u001b[0;32m   1467\u001b[0m     deploy_request_timeout\u001b[38;5;241m=\u001b[39mdeploy_request_timeout,\n\u001b[0;32m   1468\u001b[0m     autoscaling_target_cpu_utilization\u001b[38;5;241m=\u001b[39mautoscaling_target_cpu_utilization,\n\u001b[0;32m   1469\u001b[0m     autoscaling_target_accelerator_duty_cycle\u001b[38;5;241m=\u001b[39mautoscaling_target_accelerator_duty_cycle,\n\u001b[0;32m   1470\u001b[0m     spot\u001b[38;5;241m=\u001b[39mspot,\n\u001b[0;32m   1471\u001b[0m     enable_access_logging\u001b[38;5;241m=\u001b[39menable_access_logging,\n\u001b[0;32m   1472\u001b[0m     disable_container_logging\u001b[38;5;241m=\u001b[39mdisable_container_logging,\n\u001b[0;32m   1473\u001b[0m     deployment_resource_pool\u001b[38;5;241m=\u001b[39mdeployment_resource_pool,\n\u001b[0;32m   1474\u001b[0m     fast_tryout_enabled\u001b[38;5;241m=\u001b[39mfast_tryout_enabled,\n\u001b[0;32m   1475\u001b[0m     system_labels\u001b[38;5;241m=\u001b[39msystem_labels,\n\u001b[0;32m   1476\u001b[0m )\n",
      "File \u001b[1;32m~\\anaconda3\\Lib\\site-packages\\google\\cloud\\aiplatform\\base.py:863\u001b[0m, in \u001b[0;36moptional_sync.<locals>.optional_run_in_thread.<locals>.wrapper\u001b[1;34m(*args, **kwargs)\u001b[0m\n\u001b[0;32m    861\u001b[0m     \u001b[38;5;28;01mif\u001b[39;00m \u001b[38;5;28mself\u001b[39m:\n\u001b[0;32m    862\u001b[0m         VertexAiResourceNounWithFutureManager\u001b[38;5;241m.\u001b[39mwait(\u001b[38;5;28mself\u001b[39m)\n\u001b[1;32m--> 863\u001b[0m     \u001b[38;5;28;01mreturn\u001b[39;00m method(\u001b[38;5;241m*\u001b[39margs, \u001b[38;5;241m*\u001b[39m\u001b[38;5;241m*\u001b[39mkwargs)\n\u001b[0;32m    865\u001b[0m \u001b[38;5;66;03m# callbacks to call within the Future (in same Thread)\u001b[39;00m\n\u001b[0;32m    866\u001b[0m internal_callbacks \u001b[38;5;241m=\u001b[39m []\n",
      "File \u001b[1;32m~\\anaconda3\\Lib\\site-packages\\google\\cloud\\aiplatform\\models.py:1621\u001b[0m, in \u001b[0;36mEndpoint._deploy\u001b[1;34m(self, model, deployed_model_display_name, traffic_percentage, traffic_split, machine_type, min_replica_count, max_replica_count, accelerator_type, accelerator_count, tpu_topology, reservation_affinity_type, reservation_affinity_key, reservation_affinity_values, service_account, explanation_spec, metadata, sync, deploy_request_timeout, autoscaling_target_cpu_utilization, autoscaling_target_accelerator_duty_cycle, spot, enable_access_logging, disable_container_logging, deployment_resource_pool, fast_tryout_enabled, system_labels)\u001b[0m\n\u001b[0;32m   1508\u001b[0m \u001b[38;5;250m\u001b[39m\u001b[38;5;124;03m\"\"\"Deploys a Model to the Endpoint.\u001b[39;00m\n\u001b[0;32m   1509\u001b[0m \n\u001b[0;32m   1510\u001b[0m \u001b[38;5;124;03mArgs:\u001b[39;00m\n\u001b[1;32m   (...)\u001b[0m\n\u001b[0;32m   1615\u001b[0m \u001b[38;5;124;03m        System labels are managed by Google for internal use only.\u001b[39;00m\n\u001b[0;32m   1616\u001b[0m \u001b[38;5;124;03m\"\"\"\u001b[39;00m\n\u001b[0;32m   1617\u001b[0m _LOGGER\u001b[38;5;241m.\u001b[39mlog_action_start_against_resource(\n\u001b[0;32m   1618\u001b[0m     \u001b[38;5;124mf\u001b[39m\u001b[38;5;124m\"\u001b[39m\u001b[38;5;124mDeploying Model \u001b[39m\u001b[38;5;132;01m{\u001b[39;00mmodel\u001b[38;5;241m.\u001b[39mresource_name\u001b[38;5;132;01m}\u001b[39;00m\u001b[38;5;124m to\u001b[39m\u001b[38;5;124m\"\u001b[39m, \u001b[38;5;124m\"\u001b[39m\u001b[38;5;124m\"\u001b[39m, \u001b[38;5;28mself\u001b[39m\n\u001b[0;32m   1619\u001b[0m )\n\u001b[1;32m-> 1621\u001b[0m \u001b[38;5;28mself\u001b[39m\u001b[38;5;241m.\u001b[39m_deploy_call(\n\u001b[0;32m   1622\u001b[0m     api_client\u001b[38;5;241m=\u001b[39m\u001b[38;5;28mself\u001b[39m\u001b[38;5;241m.\u001b[39mapi_client,\n\u001b[0;32m   1623\u001b[0m     endpoint_resource_name\u001b[38;5;241m=\u001b[39m\u001b[38;5;28mself\u001b[39m\u001b[38;5;241m.\u001b[39mresource_name,\n\u001b[0;32m   1624\u001b[0m     model\u001b[38;5;241m=\u001b[39mmodel,\n\u001b[0;32m   1625\u001b[0m     endpoint_resource_traffic_split\u001b[38;5;241m=\u001b[39m\u001b[38;5;28mself\u001b[39m\u001b[38;5;241m.\u001b[39m_gca_resource\u001b[38;5;241m.\u001b[39mtraffic_split,\n\u001b[0;32m   1626\u001b[0m     network\u001b[38;5;241m=\u001b[39m\u001b[38;5;28mself\u001b[39m\u001b[38;5;241m.\u001b[39mnetwork,\n\u001b[0;32m   1627\u001b[0m     deployed_model_display_name\u001b[38;5;241m=\u001b[39mdeployed_model_display_name,\n\u001b[0;32m   1628\u001b[0m     traffic_percentage\u001b[38;5;241m=\u001b[39mtraffic_percentage,\n\u001b[0;32m   1629\u001b[0m     traffic_split\u001b[38;5;241m=\u001b[39mtraffic_split,\n\u001b[0;32m   1630\u001b[0m     machine_type\u001b[38;5;241m=\u001b[39mmachine_type,\n\u001b[0;32m   1631\u001b[0m     min_replica_count\u001b[38;5;241m=\u001b[39mmin_replica_count,\n\u001b[0;32m   1632\u001b[0m     max_replica_count\u001b[38;5;241m=\u001b[39mmax_replica_count,\n\u001b[0;32m   1633\u001b[0m     accelerator_type\u001b[38;5;241m=\u001b[39maccelerator_type,\n\u001b[0;32m   1634\u001b[0m     accelerator_count\u001b[38;5;241m=\u001b[39maccelerator_count,\n\u001b[0;32m   1635\u001b[0m     tpu_topology\u001b[38;5;241m=\u001b[39mtpu_topology,\n\u001b[0;32m   1636\u001b[0m     reservation_affinity_type\u001b[38;5;241m=\u001b[39mreservation_affinity_type,\n\u001b[0;32m   1637\u001b[0m     reservation_affinity_key\u001b[38;5;241m=\u001b[39mreservation_affinity_key,\n\u001b[0;32m   1638\u001b[0m     reservation_affinity_values\u001b[38;5;241m=\u001b[39mreservation_affinity_values,\n\u001b[0;32m   1639\u001b[0m     service_account\u001b[38;5;241m=\u001b[39mservice_account,\n\u001b[0;32m   1640\u001b[0m     explanation_spec\u001b[38;5;241m=\u001b[39mexplanation_spec,\n\u001b[0;32m   1641\u001b[0m     metadata\u001b[38;5;241m=\u001b[39mmetadata,\n\u001b[0;32m   1642\u001b[0m     deploy_request_timeout\u001b[38;5;241m=\u001b[39mdeploy_request_timeout,\n\u001b[0;32m   1643\u001b[0m     autoscaling_target_cpu_utilization\u001b[38;5;241m=\u001b[39mautoscaling_target_cpu_utilization,\n\u001b[0;32m   1644\u001b[0m     autoscaling_target_accelerator_duty_cycle\u001b[38;5;241m=\u001b[39mautoscaling_target_accelerator_duty_cycle,\n\u001b[0;32m   1645\u001b[0m     spot\u001b[38;5;241m=\u001b[39mspot,\n\u001b[0;32m   1646\u001b[0m     enable_access_logging\u001b[38;5;241m=\u001b[39menable_access_logging,\n\u001b[0;32m   1647\u001b[0m     disable_container_logging\u001b[38;5;241m=\u001b[39mdisable_container_logging,\n\u001b[0;32m   1648\u001b[0m     deployment_resource_pool\u001b[38;5;241m=\u001b[39mdeployment_resource_pool,\n\u001b[0;32m   1649\u001b[0m     fast_tryout_enabled\u001b[38;5;241m=\u001b[39mfast_tryout_enabled,\n\u001b[0;32m   1650\u001b[0m     system_labels\u001b[38;5;241m=\u001b[39msystem_labels,\n\u001b[0;32m   1651\u001b[0m )\n\u001b[0;32m   1653\u001b[0m _LOGGER\u001b[38;5;241m.\u001b[39mlog_action_completed_against_resource(\u001b[38;5;124m\"\u001b[39m\u001b[38;5;124mmodel\u001b[39m\u001b[38;5;124m\"\u001b[39m, \u001b[38;5;124m\"\u001b[39m\u001b[38;5;124mdeployed\u001b[39m\u001b[38;5;124m\"\u001b[39m, \u001b[38;5;28mself\u001b[39m)\n\u001b[0;32m   1655\u001b[0m \u001b[38;5;28mself\u001b[39m\u001b[38;5;241m.\u001b[39m_sync_gca_resource()\n",
      "File \u001b[1;32m~\\anaconda3\\Lib\\site-packages\\google\\cloud\\aiplatform\\models.py:2024\u001b[0m, in \u001b[0;36mEndpoint._deploy_call\u001b[1;34m(cls, api_client, endpoint_resource_name, model, endpoint_resource_traffic_split, network, deployed_model_display_name, traffic_percentage, traffic_split, machine_type, min_replica_count, max_replica_count, accelerator_type, accelerator_count, tpu_topology, reservation_affinity_type, reservation_affinity_key, reservation_affinity_values, service_account, explanation_spec, metadata, deploy_request_timeout, autoscaling_target_cpu_utilization, autoscaling_target_accelerator_duty_cycle, spot, enable_access_logging, disable_container_logging, deployment_resource_pool, fast_tryout_enabled, system_labels)\u001b[0m\n\u001b[0;32m   2012\u001b[0m operation_future \u001b[38;5;241m=\u001b[39m api_client\u001b[38;5;241m.\u001b[39mdeploy_model(\n\u001b[0;32m   2013\u001b[0m     endpoint\u001b[38;5;241m=\u001b[39mendpoint_resource_name,\n\u001b[0;32m   2014\u001b[0m     deployed_model\u001b[38;5;241m=\u001b[39mdeployed_model,\n\u001b[1;32m   (...)\u001b[0m\n\u001b[0;32m   2017\u001b[0m     timeout\u001b[38;5;241m=\u001b[39mdeploy_request_timeout,\n\u001b[0;32m   2018\u001b[0m )\n\u001b[0;32m   2020\u001b[0m _LOGGER\u001b[38;5;241m.\u001b[39mlog_action_started_against_resource_with_lro(\n\u001b[0;32m   2021\u001b[0m     \u001b[38;5;124m\"\u001b[39m\u001b[38;5;124mDeploy\u001b[39m\u001b[38;5;124m\"\u001b[39m, \u001b[38;5;124m\"\u001b[39m\u001b[38;5;124mmodel\u001b[39m\u001b[38;5;124m\"\u001b[39m, \u001b[38;5;28mcls\u001b[39m, operation_future\n\u001b[0;32m   2022\u001b[0m )\n\u001b[1;32m-> 2024\u001b[0m operation_future\u001b[38;5;241m.\u001b[39mresult(timeout\u001b[38;5;241m=\u001b[39m\u001b[38;5;28;01mNone\u001b[39;00m)\n",
      "File \u001b[1;32m~\\anaconda3\\Lib\\site-packages\\google\\api_core\\future\\polling.py:261\u001b[0m, in \u001b[0;36mPollingFuture.result\u001b[1;34m(self, timeout, retry, polling)\u001b[0m\n\u001b[0;32m    256\u001b[0m \u001b[38;5;28mself\u001b[39m\u001b[38;5;241m.\u001b[39m_blocking_poll(timeout\u001b[38;5;241m=\u001b[39mtimeout, retry\u001b[38;5;241m=\u001b[39mretry, polling\u001b[38;5;241m=\u001b[39mpolling)\n\u001b[0;32m    258\u001b[0m \u001b[38;5;28;01mif\u001b[39;00m \u001b[38;5;28mself\u001b[39m\u001b[38;5;241m.\u001b[39m_exception \u001b[38;5;129;01mis\u001b[39;00m \u001b[38;5;129;01mnot\u001b[39;00m \u001b[38;5;28;01mNone\u001b[39;00m:\n\u001b[0;32m    259\u001b[0m     \u001b[38;5;66;03m# pylint: disable=raising-bad-type\u001b[39;00m\n\u001b[0;32m    260\u001b[0m     \u001b[38;5;66;03m# Pylint doesn't recognize that this is valid in this case.\u001b[39;00m\n\u001b[1;32m--> 261\u001b[0m     \u001b[38;5;28;01mraise\u001b[39;00m \u001b[38;5;28mself\u001b[39m\u001b[38;5;241m.\u001b[39m_exception\n\u001b[0;32m    263\u001b[0m \u001b[38;5;28;01mreturn\u001b[39;00m \u001b[38;5;28mself\u001b[39m\u001b[38;5;241m.\u001b[39m_result\n",
      "\u001b[1;31mFailedPrecondition\u001b[0m: 400 Model server exited unexpectedly. Model server logs can be found at https://console.cloud.google.com/logs/viewer?project=41965541199&resource=aiplatform.googleapis.com%2FDeploymentResourcePool&advancedFilter=resource.type%3D%22aiplatform.googleapis.com%2FDeploymentResourcePool%22%0Aresource.labels.deployment_resource_pool_id%3D%22internal_6333569606036226048%22%0Aresource.labels.location%3D%22us-central1%22. 9: Model server exited unexpectedly. Model server logs can be found at https://console.cloud.google.com/logs/viewer?project=41965541199&resource=aiplatform.googleapis.com%2FDeploymentResourcePool&advancedFilter=resource.type%3D%22aiplatform.googleapis.com%2FDeploymentResourcePool%22%0Aresource.labels.deployment_resource_pool_id%3D%22internal_6333569606036226048%22%0Aresource.labels.location%3D%22us-central1%22."
     ]
    }
   ],
   "source": [
    "# Deploy model to the endpoint\n",
    "endpoint.deploy( \n",
    "    model=model,\n",
    "    deployed_model_display_name='puji_model_001', #'jaya_model_000'\n",
    "    machine_type='e2-standard-2',\n",
    "    min_replica_count=min_replica_count,\n",
    "    max_replica_count=max_replica_count,\n",
    "    sync=True, \n",
    ")"
   ]
  },
  {
   "cell_type": "markdown",
   "id": "cb06c5cb",
   "metadata": {},
   "source": [
    "# Using Endpoint"
   ]
  },
  {
   "cell_type": "code",
   "execution_count": null,
   "id": "51792a0b",
   "metadata": {},
   "outputs": [],
   "source": [
    "# predict your data with online prediction here \n",
    "PROJECT_ID = 'dtidsus'\n",
    "ENDPOINT_ID = \"projects/41965541199/locations/us-central1/puji-endpoint-000/2241324766407426048\"\n",
    "REGION = 'us-central1'"
   ]
  },
  {
   "cell_type": "code",
   "execution_count": null,
   "id": "04dd165b",
   "metadata": {},
   "outputs": [],
   "source": [
    "aiplatform.init(project=PROJECT_ID, location=REGION)\n",
    "endpoint = aiplatform.Endpoint(ENDPOINT_ID)\n",
    "prediction = endpoint.predict(instances=[[50000, 1, 3, 1, 23, 131895, 132154, 129237]])\n",
    "\n",
    "print(\"PREDICTION:\", prediction)"
   ]
  },
  {
   "cell_type": "code",
   "execution_count": null,
   "id": "d3ced07a",
   "metadata": {},
   "outputs": [],
   "source": [
    "# Manual File"
   ]
  },
  {
   "cell_type": "code",
   "execution_count": null,
   "id": "b5e17f08",
   "metadata": {},
   "outputs": [],
   "source": [
    "try:\n",
    "    storage_client = storage.Client(project=project_id)\n",
    "    bucket = storage_client.get_bucket(bucket_name)\n",
    "    blob_model = bucket.blob('puji/model/model_catboost.pkl')\n",
    "    blob_model.download_to_filename('model_catboost_new.pkl')\n",
    "\n",
    "    print (\"download model succeeded\")\n",
    "except:\n",
    "    raise TypeError(\"An exception occurred\")"
   ]
  },
  {
   "cell_type": "code",
   "execution_count": null,
   "id": "7b57d728",
   "metadata": {},
   "outputs": [],
   "source": [
    "model_load = pickle.load(open('model_catboost_new.pkl','rb'))"
   ]
  },
  {
   "cell_type": "code",
   "execution_count": null,
   "id": "2381e9f2",
   "metadata": {},
   "outputs": [],
   "source": [
    "y_predict = model_load.predict(X_test)"
   ]
  },
  {
   "cell_type": "code",
   "execution_count": null,
   "id": "9332fcb4",
   "metadata": {},
   "outputs": [],
   "source": [
    "y_predict"
   ]
  }
 ],
 "metadata": {
  "kernelspec": {
   "display_name": "Python 3 (ipykernel)",
   "language": "python",
   "name": "python3"
  },
  "language_info": {
   "codemirror_mode": {
    "name": "ipython",
    "version": 3
   },
   "file_extension": ".py",
   "mimetype": "text/x-python",
   "name": "python",
   "nbconvert_exporter": "python",
   "pygments_lexer": "ipython3",
   "version": "3.11.4"
  }
 },
 "nbformat": 4,
 "nbformat_minor": 5
}
